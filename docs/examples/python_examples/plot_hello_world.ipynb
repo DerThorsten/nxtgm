{
  "cells": [
    {
      "cell_type": "markdown",
      "metadata": {},
      "source": [
        "\n# Hello World\n\nThis example introduces the basic usage of nxtgm.\n"
      ]
    },
    {
      "cell_type": "code",
      "execution_count": null,
      "metadata": {
        "collapsed": false
      },
      "outputs": [],
      "source": [
        "from __future__ import annotations\n\nimport numpy as np\nimport nxtgm"
      ]
    },
    {
      "cell_type": "markdown",
      "metadata": {},
      "source": [
        "## The absolute minimal (pointless) example\n\nHere we create a graphical model with a single variable\nwhich can have two values, 0 or 1.\n\n"
      ]
    },
    {
      "cell_type": "code",
      "execution_count": null,
      "metadata": {
        "collapsed": false
      },
      "outputs": [],
      "source": [
        "gm = nxtgm.DiscreteGm(num_var=1, num_labels=2)"
      ]
    },
    {
      "cell_type": "markdown",
      "metadata": {},
      "source": [
        "We can now  add a single unary factor to the model.\nThe factor is a simple table with two entries.\nThe first entry is the energy for the variable being 0,\nthe second entry is the energy for the variable being 1.\nthe \"value_table\" for a factor is called \"function\".\nwe first add such a function\n\n"
      ]
    },
    {
      "cell_type": "code",
      "execution_count": null,
      "metadata": {
        "collapsed": false
      },
      "outputs": [],
      "source": [
        "function_id = gm.add_function(np.array([42.0, 30.0]))"
      ]
    },
    {
      "cell_type": "markdown",
      "metadata": {},
      "source": [
        "We can now add a factor to the model.\n\n"
      ]
    },
    {
      "cell_type": "code",
      "execution_count": null,
      "metadata": {
        "collapsed": false
      },
      "outputs": [],
      "source": [
        "variables = [0]  # the factor is connected to the only variable in the model\ngm.add_factor(variables, function_id)"
      ]
    },
    {
      "cell_type": "markdown",
      "metadata": {},
      "source": [
        "We can now optimize the model and find the best labels for all\nvariables in the model. In this case its a single variable.\nThe result is a numpy array with the best label for each variable.\nSince this model is very simple (and the result is obvious) we\nuse a brute force optimizer.\n\n"
      ]
    },
    {
      "cell_type": "code",
      "execution_count": null,
      "metadata": {
        "collapsed": false
      },
      "outputs": [],
      "source": [
        "optimizer = nxtgm.BruteForceNaive\n\noptimizer = nxtgm.BruteForceNaive(gm)\noptimizer.optimize()"
      ]
    },
    {
      "cell_type": "markdown",
      "metadata": {},
      "source": [
        "Get the best solution from the optimizer\nin our case it will be [1] since the energy for the variable being 0 is  42.0\nand the energy for the variable being 1 is 30.0\n\n"
      ]
    },
    {
      "cell_type": "code",
      "execution_count": null,
      "metadata": {
        "collapsed": false
      },
      "outputs": [],
      "source": [
        "best_solution = optimizer.best_solution()\nbest_solution"
      ]
    }
  ],
  "metadata": {
    "kernelspec": {
      "display_name": "Python 3",
      "language": "python",
      "name": "python3"
    },
    "language_info": {
      "codemirror_mode": {
        "name": "ipython",
        "version": 3
      },
      "file_extension": ".py",
      "mimetype": "text/x-python",
      "name": "python",
      "nbconvert_exporter": "python",
      "pygments_lexer": "ipython3",
      "version": "3.11.3"
    }
  },
  "nbformat": 4,
  "nbformat_minor": 0
}
